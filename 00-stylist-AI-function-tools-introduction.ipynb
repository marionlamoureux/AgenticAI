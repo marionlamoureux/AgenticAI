{
 "cells": [
  {
   "cell_type": "markdown",
   "metadata": {
    "application/vnd.databricks.v1+cell": {
     "cellMetadata": {
      "byteLimit": 2048000,
      "rowLimit": 10000
     },
     "inputWidgets": {},
     "nuid": "93e7fe12-a8cc-48e1-b0a3-0ad2077f4157",
     "showTitle": false,
     "tableResultSettingsMap": {},
     "title": ""
    }
   },
   "source": [
    "# Composable AI systems: Building and AI Stylist Specialist selling our products\n"
   ]
  },
  {
   "cell_type": "code",
   "execution_count": 0,
   "metadata": {
    "application/vnd.databricks.v1+cell": {
     "cellMetadata": {
      "byteLimit": 2048000,
      "rowLimit": 10000
     },
     "inputWidgets": {},
     "nuid": "18b2a22e-f8b8-46bb-bdd1-5c05a7f6458e",
     "showTitle": false,
     "tableResultSettingsMap": {},
     "title": ""
    },
    "jupyter": {
     "outputs_hidden": true
    }
   },
   "outputs": [],
   "source": [
    "%pip install databricks-sdk==0.41.0 langchain-community==0.2.10 langchain-openai==0.1.19 mlflow==2.20.2 faker==33.1.0\n",
    "dbutils.library.restartPython()"
   ]
  },
  {
   "cell_type": "code",
   "execution_count": 0,
   "metadata": {
    "application/vnd.databricks.v1+cell": {
     "cellMetadata": {
      "byteLimit": 2048000,
      "rowLimit": 10000
     },
     "inputWidgets": {},
     "nuid": "6f587761-ea08-4e72-9537-43a4c314db59",
     "showTitle": false,
     "tableResultSettingsMap": {},
     "title": ""
    },
    "jupyter": {
     "outputs_hidden": true
    }
   },
   "outputs": [],
   "source": [
    "%run ./_resources/00-init-stylist $reset_all=false"
   ]
  },
  {
   "cell_type": "markdown",
   "metadata": {
    "application/vnd.databricks.v1+cell": {
     "cellMetadata": {
      "byteLimit": 2048000,
      "rowLimit": 10000
     },
     "inputWidgets": {},
     "nuid": "d52ede9e-3c18-413a-9e79-090764433b89",
     "showTitle": false,
     "tableResultSettingsMap": {},
     "title": ""
    }
   },
   "source": [
    "## Creating our tools: Using Unity Catalog Functions\n",
    "\n",
    "Let's start by defining the functions our LLM will be able to execute. These functions can contain any logic, from simple SQL to advanced python."
   ]
  },
  {
   "cell_type": "markdown",
   "metadata": {
    "application/vnd.databricks.v1+cell": {
     "cellMetadata": {
      "byteLimit": 2048000,
      "rowLimit": 10000
     },
     "inputWidgets": {},
     "nuid": "627ac3e8-95f9-43cd-a5fb-48beecc08f59",
     "showTitle": false,
     "tableResultSettingsMap": {},
     "title": ""
    }
   },
   "source": [
    "### Computing Mathematics: converting inches to centimeters\n",
    "\n",
    "Our online shop is selling across all regions, and we know our customers often ask to convert cm to inches. However, plain LLMs are quite bad at executing math. To solve this, let's create a simple function doing the conversion.\n",
    "\n",
    "We'll save this function within Unity Catalog. You can open the explorer to review the functions created in this notebook.\n",
    "\n",
    "*Note: This is a very simple first example for this demo. We'll implement a broader math tool later on.*"
   ]
  },
  {
   "cell_type": "code",
   "execution_count": 0,
   "metadata": {
    "application/vnd.databricks.v1+cell": {
     "cellMetadata": {
      "byteLimit": 2048000,
      "implicitDf": true,
      "rowLimit": 10000
     },
     "inputWidgets": {},
     "nuid": "2f4fc7db-3ea9-4ef2-ac53-45605d2d25a0",
     "showTitle": true,
     "tableResultSettingsMap": {},
     "title": "Convert inch to cm"
    }
   },
   "outputs": [],
   "source": [
    "%sql\n",
    "CREATE OR REPLACE FUNCTION convert_inch_to_cm(size_in_inch FLOAT)\n",
    "RETURNS FLOAT\n",
    "LANGUAGE SQL\n",
    "COMMENT 'convert size from inch to cm'\n",
    "RETURN size_in_inch * 2.54;\n",
    "\n",
    "-- let's test our function:\n",
    "SELECT convert_inch_to_cm(10) as 10_inches_in_cm;"
   ]
  },
  {
   "cell_type": "markdown",
   "metadata": {
    "application/vnd.databricks.v1+cell": {
     "cellMetadata": {
      "byteLimit": 2048000,
      "rowLimit": 10000
     },
     "inputWidgets": {},
     "nuid": "2079b5ff-c210-439c-ab43-86b8319e6e6c",
     "showTitle": false,
     "tableResultSettingsMap": {},
     "title": ""
    }
   },
   "source": [
    "### Executing a tool to fetch internal data: getting the latest customer orders\n",
    "\n",
    "We want our stylist assistant to be able to list all existing customer orders"
   ]
  },
  {
   "cell_type": "code",
   "execution_count": 0,
   "metadata": {
    "application/vnd.databricks.v1+cell": {
     "cellMetadata": {
      "byteLimit": 2048000,
      "implicitDf": true,
      "rowLimit": 10000
     },
     "inputWidgets": {},
     "nuid": "d1c2a711-f012-455d-b041-caf0527097f5",
     "showTitle": false,
     "tableResultSettingsMap": {},
     "title": ""
    }
   },
   "outputs": [],
   "source": [
    "%sql\n",
    "CREATE OR REPLACE FUNCTION get_customer_orders ()\n",
    "RETURNS TABLE(user_id STRING,\n",
    "  id STRING,\n",
    "  transaction_date STRING,\n",
    "  item_count DOUBLE,\n",
    "  amount DOUBLE,\n",
    "  order_status STRING)\n",
    "COMMENT 'Returns a list of customer orders for the given customer ID (expect a UUID)'\n",
    "LANGUAGE SQL\n",
    "    RETURN\n",
    "    SELECT o.* from tools_orders o \n",
    "    inner join tools_customers c on c.id = o.user_id \n",
    "    where email=current_user() ORDER BY transaction_date desc;\n",
    "\n",
    "SELECT * FROM get_customer_orders();"
   ]
  },
  {
   "cell_type": "markdown",
   "metadata": {
    "application/vnd.databricks.v1+cell": {
     "cellMetadata": {
      "byteLimit": 2048000,
      "rowLimit": 10000
     },
     "inputWidgets": {},
     "nuid": "e6413d3e-d3e4-4939-a0ab-aefc76a502c7",
     "showTitle": false,
     "tableResultSettingsMap": {},
     "title": ""
    }
   },
   "source": [
    "### Executing a Python function to fetch external dataset in realtime: getting the weather\n",
    "\n",
    "We want our stylist assistant to give us recommendations based on the weather. Let's add a tool to fetch the weather based on longitude/latitude, using Python to call an external Weather API.\n",
    "\n",
    "**Note: This will be run by a serverless compute, and accessing external data, therefore requires serverless network egress access. If this fails in a serverless setup/playground, make sure you are allowing it in your networking configuration (open the workspace network option at admin account level)**"
   ]
  },
  {
   "cell_type": "code",
   "execution_count": 0,
   "metadata": {
    "application/vnd.databricks.v1+cell": {
     "cellMetadata": {
      "byteLimit": 2048000,
      "implicitDf": true,
      "rowLimit": 10000
     },
     "inputWidgets": {},
     "nuid": "8b88d682-a78d-450a-99ae-ab4dc65919c1",
     "showTitle": false,
     "tableResultSettingsMap": {},
     "title": ""
    }
   },
   "outputs": [],
   "source": [
    "%sql\n",
    "CREATE OR REPLACE FUNCTION get_weather(latitude DOUBLE, longitude DOUBLE)\n",
    "RETURNS STRUCT<temperature_in_celsius DOUBLE, rain_in_mm DOUBLE>\n",
    "LANGUAGE PYTHON\n",
    "COMMENT 'This function retrieves the current temperature and rain information for a given latitude and longitude using the Open-Meteo API.'\n",
    "AS\n",
    "$$\n",
    "  try:\n",
    "    import requests as r\n",
    "    #Note: this is provided for education only, non commercial - please get a license for real usage: https://api.open-meteo.com. Let s comment it to avoid issues for now\n",
    "    #weather = r.get(f'https://api.open-meteo.com/v1/forecast?latitude={latitude}&longitude={longitude}&current=temperature_2m,rain&forecast_days=1').json()\n",
    "    return {\n",
    "      \"temperature_in_celsius\": weather[\"current\"][\"temperature_2m\"],\n",
    "      \"rain_in_mm\": weather[\"current\"][\"rain\"]\n",
    "    }\n",
    "  except:\n",
    "    return {\"temperature_in_celsius\": 25.0, \"rain_in_mm\": 0.0}\n",
    "$$;\n",
    "\n",
    "-- let's test our function:\n",
    "SELECT get_weather(52.52, 13.41) as weather;"
   ]
  },
  {
   "cell_type": "markdown",
   "metadata": {
    "application/vnd.databricks.v1+cell": {
     "cellMetadata": {
      "byteLimit": 2048000,
      "rowLimit": 10000
     },
     "inputWidgets": {},
     "nuid": "94ebd4a2-fd80-43ff-a55f-db68a41e093b",
     "showTitle": false,
     "tableResultSettingsMap": {},
     "title": ""
    }
   },
   "source": [
    "### Creating a function calling LLMs with specific prompt as a tool\n",
    "\n",
    "You can also register tools containing custom prompts that your LLM can use to to execute actions based on the customer context.\n",
    "\n",
    "Let's create a tool that recommend the style for our user, based on the current weather."
   ]
  },
  {
   "cell_type": "code",
   "execution_count": 0,
   "metadata": {
    "application/vnd.databricks.v1+cell": {
     "cellMetadata": {
      "byteLimit": 2048000,
      "implicitDf": true,
      "rowLimit": 10000
     },
     "inputWidgets": {},
     "nuid": "f1d6ed6a-eb1f-4eeb-8ea9-60128939f800",
     "showTitle": false,
     "tableResultSettingsMap": {},
     "title": ""
    }
   },
   "outputs": [],
   "source": [
    "%sql\n",
    "CREATE OR REPLACE FUNCTION recommend_outfit_description(requested_style STRING, temperature_in_celsius FLOAT, rain_in_mm FLOAT)\n",
    "RETURNS STRING\n",
    "LANGUAGE SQL\n",
    "COMMENT 'This function generate a stylist outfit description based on initial request and the current weather.'\n",
    "RETURN SELECT ai_query(\"databricks-meta-llama-3-3-70b-instruct\",\n",
    "    CONCAT(\"You are a stylist assistant. Your goal is to give recommendation on what would be the best outfit for today. The current temperature is \",temperature_in_celsius ,\" celsius and rain is:\", rain_in_mm, \"mm. Give size in inches if any. Don't assume customer size if they don't share it. Give ideas of colors and other items to match. The user added this instruction based on what they like: \", requested_style)\n",
    "  ) AS recommended_outfit;\n",
    "\n",
    "-- let's test our function:\n",
    "SELECT recommend_outfit_description(\"I need a dress for an interview.\", 30.1, 0.0)"
   ]
  },
  {
   "cell_type": "markdown",
   "metadata": {
    "application/vnd.databricks.v1+cell": {
     "cellMetadata": {
      "byteLimit": 2048000,
      "rowLimit": 10000
     },
     "inputWidgets": {},
     "nuid": "bcad8299-b93d-4c0c-ab1c-1cd42b9b4792",
     "showTitle": false,
     "tableResultSettingsMap": {},
     "title": ""
    }
   },
   "source": [
    "### Using Vector search to find similar content as a tool\n",
    "\n",
    "Let's now add a tool to recomment similar items, based on an article description.\n",
    "\n",
    "We'll be using Databricks Vector Search to perform a realtime similarity search and return articles that we could suggest from our database.\n",
    "\n",
    "To do so, you can leverage the new `vector_search` SQL function. See [Documentation](https://docs.databricks.com/en/sql/language-manual/functions/vector_search.html) for more details.\n",
    "\n",
    "<div style=\"background-color: #e3efff\"> To simplify this demo, we'll fake the call to the vector_search and make it work without pre-loading the demo</div>"
   ]
  },
  {
   "cell_type": "code",
   "execution_count": 0,
   "metadata": {
    "application/vnd.databricks.v1+cell": {
     "cellMetadata": {
      "byteLimit": 2048000,
      "rowLimit": 10000
     },
     "inputWidgets": {},
     "nuid": "e34f6fa2-e059-4039-bb2a-d13ca0a1a594",
     "showTitle": false,
     "tableResultSettingsMap": {},
     "title": ""
    }
   },
   "outputs": [],
   "source": [
    "%sql\n",
    "-- Commenting this as the index isn't pre-loaded in the demo to simplify the experience.\n",
    "-- CREATE OR REPLACE FUNCTION find_clothes_matching_description (description STRING)\n",
    "-- RETURNS TABLE (category STRING, color STRING, id STRING, price DOUBLE, search_score DOUBLE)\n",
    "-- LANGUAGE SQL\n",
    "-- COMMENT 'Finds clothes in our catalog matching the description using AI query and returns a table of results.'\n",
    "-- RETURN\n",
    "--  SELECT * FROM VECTOR_SEARCH(index => 'catalog.schema.clothing_index', query => query, num_results => 3) vs\n"
   ]
  },
  {
   "cell_type": "code",
   "execution_count": 0,
   "metadata": {
    "application/vnd.databricks.v1+cell": {
     "cellMetadata": {
      "byteLimit": 2048000,
      "implicitDf": true,
      "rowLimit": 10000
     },
     "inputWidgets": {},
     "nuid": "b2d684c1-ed4f-4bb8-ab83-f46b63c92f86",
     "showTitle": false,
     "tableResultSettingsMap": {},
     "title": ""
    }
   },
   "outputs": [],
   "source": [
    "%sql\n",
    "-- Generate fake data instead of calling the VS index with vector_search;\n",
    "CREATE OR REPLACE FUNCTION find_clothes_matching_description (description STRING)\n",
    "RETURNS TABLE (id BIGINT, name STRING, color STRING, category STRING, price DOUBLE, description STRING)\n",
    "COMMENT 'Finds existing clothes in our catalog matching the description using AI query and returns a table of results.'\n",
    "RETURN\n",
    "SELECT clothes.* FROM (\n",
    "  SELECT explode(from_json(\n",
    "    ai_query(\n",
    "      'databricks-meta-llama-3-3-70b-instruct', \n",
    "      CONCAT(\n",
    "        'returns a json list of 3 json object clothes: <\"id\": bigint, \"name\": string, \"color\": string, \"category\": string, \"price\": double, \"description\": string>. These clothes should match the following user description: ', description, '. Return only the answer as a javascript json object ready to be parsed, no comment or text or javascript or ``` at the beginning.' ) ), 'ARRAY<STRUCT<id: BIGINT, name: STRING, color: STRING, category: STRING, price: DOUBLE, description: STRING>>' )) AS clothes );\n",
    "\n",
    "-- let's test our function:\n",
    "SELECT * FROM find_clothes_matching_description('a red dress');"
   ]
  },
  {
   "cell_type": "markdown",
   "metadata": {
    "application/vnd.databricks.v1+cell": {
     "cellMetadata": {
      "byteLimit": 2048000,
      "rowLimit": 10000
     },
     "inputWidgets": {},
     "nuid": "4ab3c5ed-efeb-4ca5-9aca-2be0c869116f",
     "showTitle": false,
     "tableResultSettingsMap": {},
     "title": ""
    }
   },
   "source": [
    "## Using Databricks Playground to test our functions\n",
    "\n",
    "Databricks Playground provides a built-in integration with your functions. It'll analyze which functions are available, and call them to properly answer your question.\n",
    "\n",
    "\n",
    "<img src=\"https://github.com/databricks-demos/dbdemos-resources/blob/main/images/product/llm-tools-functions/llm-tools-functions-playground.gif?raw=true\" style=\"float: right; margin-left: 10px; margin-bottom: 10px;\">\n",
    "\n",
    "To try out our functions with playground:\n",
    "- Open the [Playground](/ml/playground) \n",
    "- Select a model supporting tools (like Llama3.1)\n",
    "- Add the functions you want your model to leverage (`catalog.schema.function_name`)\n",
    "- Ask a question (for example to convert inch to cm), and playground will do the magic for you!\n",
    "\n",
    "<br/>\n",
    "<div style=\"background-color: #d4e7ff; padding: 10px; border-radius: 15px;clear:both\">\n",
    "<strong>Note:</strong> Tools in playground is in preview, reach-out your Databricks Account team for more details and to enable it.\n",
    "</div>\n"
   ]
  },
  {
   "cell_type": "markdown",
   "metadata": {
    "application/vnd.databricks.v1+cell": {
     "cellMetadata": {
      "byteLimit": 2048000,
      "rowLimit": 10000
     },
     "inputWidgets": {},
     "nuid": "92377948-f76e-4e0f-b3d8-7fc68b8e4a36",
     "showTitle": false,
     "tableResultSettingsMap": {},
     "title": ""
    }
   },
   "source": [
    "\n",
    "## Building an AI system leveraging our Databricks UC functions with Langchain\n",
    "\n",
    "These tools can also directly be leveraged on custom model. In this case, you'll be in charge of chaining and calling the functions yourself (the playground does it for you!)\n",
    "\n",
    "Langchain makes it easy for you. You can create your own custom AI System using a Langchain model and a list of existing tools (in our case, the tools will be the functions we just created)"
   ]
  },
  {
   "cell_type": "markdown",
   "metadata": {
    "application/vnd.databricks.v1+cell": {
     "cellMetadata": {
      "byteLimit": 2048000,
      "rowLimit": 10000
     },
     "inputWidgets": {},
     "nuid": "b3816563-4e1d-4d4f-a041-1a78f91b880c",
     "showTitle": false,
     "tableResultSettingsMap": {},
     "title": ""
    }
   },
   "source": [
    "### Enable MLflow Tracing\n",
    "\n",
    "Enabling MLflow Tracing is required to:\n",
    "- View the chain's trace visualization in this notebook\n",
    "- Capture the chain's trace in production via Inference Tables\n",
    "- Evaluate the chain via the Mosaic AI Evaluation Suite"
   ]
  },
  {
   "cell_type": "code",
   "execution_count": 0,
   "metadata": {
    "application/vnd.databricks.v1+cell": {
     "cellMetadata": {
      "byteLimit": 2048000,
      "rowLimit": 10000
     },
     "inputWidgets": {},
     "nuid": "6ba01b9d-0ad0-4812-82eb-22bd40b2447b",
     "showTitle": false,
     "tableResultSettingsMap": {},
     "title": ""
    }
   },
   "outputs": [],
   "source": [
    "import mlflow\n",
    "mlflow.langchain.autolog()"
   ]
  },
  {
   "cell_type": "markdown",
   "metadata": {
    "application/vnd.databricks.v1+cell": {
     "cellMetadata": {
      "byteLimit": 2048000,
      "rowLimit": 10000
     },
     "inputWidgets": {},
     "nuid": "4a4220c5-7b8d-454f-87b5-8921d8123234",
     "showTitle": false,
     "tableResultSettingsMap": {},
     "title": ""
    }
   },
   "source": [
    "### Start by creating our tools from Unity Catalog\n",
    "\n",
    "Let's use UCFunctionToolkit to select which functions we want to use as tool for our demo:"
   ]
  },
  {
   "cell_type": "code",
   "execution_count": 0,
   "metadata": {
    "application/vnd.databricks.v1+cell": {
     "cellMetadata": {
      "byteLimit": 2048000,
      "rowLimit": 10000
     },
     "inputWidgets": {},
     "nuid": "54cc7c34-fa0f-4586-9d19-7cb899570aea",
     "showTitle": false,
     "tableResultSettingsMap": {},
     "title": ""
    }
   },
   "outputs": [],
   "source": [
    "from langchain_community.tools.databricks import UCFunctionToolkit\n",
    "import pandas as pd\n",
    "wh = get_shared_warehouse(name = None) #Get the first shared wh we can. See _resources/01-init for details\n",
    "print(f'This demo will be using the wg {wh.name} to execute the functions')\n",
    "\n",
    "def get_tools():\n",
    "    return (\n",
    "        UCFunctionToolkit(warehouse_id=wh.id)\n",
    "        # Include functions as tools using their qualified names.\n",
    "        # You can use \"{catalog_name}.{schema_name}.*\" to get all functions in a schema.\n",
    "        .include(f\"{catalog}.{db}.*\")\n",
    "        .get_tools())\n",
    "\n",
    "display_tools(get_tools()) #display in a table the tools - see _resource/00-init for details"
   ]
  },
  {
   "cell_type": "markdown",
   "metadata": {
    "application/vnd.databricks.v1+cell": {
     "cellMetadata": {
      "byteLimit": 2048000,
      "rowLimit": 10000
     },
     "inputWidgets": {},
     "nuid": "33a056d5-8fb3-47f6-a6ae-9adb53285527",
     "showTitle": false,
     "tableResultSettingsMap": {},
     "title": ""
    }
   },
   "source": [
    "### Let's create our langchain agent using the tools we just created"
   ]
  },
  {
   "cell_type": "code",
   "execution_count": 0,
   "metadata": {
    "application/vnd.databricks.v1+cell": {
     "cellMetadata": {
      "byteLimit": 2048000,
      "rowLimit": 10000
     },
     "inputWidgets": {},
     "nuid": "793eb769-94c4-470e-a9f0-073f881bd042",
     "showTitle": true,
     "tableResultSettingsMap": {},
     "title": "Create the chat"
    }
   },
   "outputs": [],
   "source": [
    "\n",
    "from langchain_openai import ChatOpenAI\n",
    "from databricks.sdk import WorkspaceClient\n",
    "\n",
    "# Note: langchain_community.chat_models.ChatDatabricks doesn't support create_tool_calling_agent yet - it'll soon be availableK. Let's use ChatOpenAI for now\n",
    "llm = ChatOpenAI(\n",
    "  base_url=f\"{WorkspaceClient().config.host}/serving-endpoints/\",\n",
    "  api_key=dbutils.notebook.entry_point.getDbutils().notebook().getContext().apiToken().get(),\n",
    "  model=\"databricks-meta-llama-3-3-70b-instruct\"\n",
    ")\n"
   ]
  },
  {
   "cell_type": "code",
   "execution_count": 0,
   "metadata": {
    "application/vnd.databricks.v1+cell": {
     "cellMetadata": {
      "byteLimit": 2048000,
      "rowLimit": 10000
     },
     "inputWidgets": {},
     "nuid": "b1f35450-090a-43e3-a12f-d97b764fe734",
     "showTitle": true,
     "tableResultSettingsMap": {},
     "title": "Define the Prompt"
    }
   },
   "outputs": [],
   "source": [
    "from langchain_core.prompts import ChatPromptTemplate\n",
    "from langchain_community.chat_models import ChatDatabricks\n",
    "\n",
    "def get_prompt(history = [], prompt = None):\n",
    "    if not prompt:\n",
    "            prompt = \"\"\"You are a helpful fashion assistant. Your task is to recommend cothes to the users. You can use the following tools:\n",
    "    - Use the convert_inch_to_cm to covert inch to cm if the customer ask for it\n",
    "    - Use get_customer_orders to get the list of orders and their status, total amount and number of article. \n",
    "    - Use find_clothes_matching_description to find existing clothes from our internal catalog and suggest article to the customer\n",
    "    - Use recommend_outfit if a customer ask you for a style. This function take the weather as parameter. Use the get_weather function first before calling this function to get the current temperature and rain. The current user location is 52.52, 13.41.\n",
    "\n",
    "    Make sure to use the appropriate tool for each step and provide a coherent response to the user. Don't mention tools to your users. Only answer what the user is asking for. If the question isn't related to the tools or style/clothe, say you're sorry but can't answer\"\"\"\n",
    "    return ChatPromptTemplate.from_messages([\n",
    "            (\"system\", prompt),\n",
    "            (\"human\", \"{input}\"),\n",
    "            (\"placeholder\", \"{agent_scratchpad}\"),\n",
    "    ])"
   ]
  },
  {
   "cell_type": "code",
   "execution_count": 0,
   "metadata": {
    "application/vnd.databricks.v1+cell": {
     "cellMetadata": {
      "byteLimit": 2048000,
      "rowLimit": 10000
     },
     "inputWidgets": {},
     "nuid": "3246cfc1-714a-46c5-981a-1dc45c6f2fc3",
     "showTitle": false,
     "tableResultSettingsMap": {},
     "title": ""
    }
   },
   "outputs": [],
   "source": [
    "from langchain.agents import AgentExecutor, create_tool_calling_agent\n",
    "prompt = get_prompt()\n",
    "tools = get_tools()\n",
    "agent = create_tool_calling_agent(llm, tools, prompt)\n",
    "agent_executor = AgentExecutor(agent=agent, tools=tools, verbose=True)"
   ]
  },
  {
   "cell_type": "markdown",
   "metadata": {
    "application/vnd.databricks.v1+cell": {
     "cellMetadata": {
      "byteLimit": 2048000,
      "rowLimit": 10000
     },
     "inputWidgets": {},
     "nuid": "73761b17-d26c-4455-abb4-0ae650e11407",
     "showTitle": false,
     "tableResultSettingsMap": {},
     "title": ""
    }
   },
   "source": [
    "### Let's give it a try: Asking to run a simple size conversion.\n",
    "Under the hood, we want this to call our Math conversion function:"
   ]
  },
  {
   "cell_type": "code",
   "execution_count": 0,
   "metadata": {
    "application/vnd.databricks.v1+cell": {
     "cellMetadata": {
      "byteLimit": 2048000,
      "rowLimit": 10000
     },
     "inputWidgets": {},
     "nuid": "97ebd974-7ef8-4f6d-b1b1-28ba0febe6d4",
     "showTitle": false,
     "tableResultSettingsMap": {},
     "title": ""
    }
   },
   "outputs": [],
   "source": [
    "#make sure our log is enabled to properly display and trace the call chain \n",
    "mlflow.langchain.autolog()\n",
    "agent_executor.invoke({\"input\": \"what's 12in in cm?\"})"
   ]
  },
  {
   "cell_type": "code",
   "execution_count": 0,
   "metadata": {
    "application/vnd.databricks.v1+cell": {
     "cellMetadata": {
      "byteLimit": 2048000,
      "rowLimit": 10000
     },
     "inputWidgets": {},
     "nuid": "d8fde48f-de72-4c5e-8d88-1956dacb9dde",
     "showTitle": false,
     "tableResultSettingsMap": {},
     "title": ""
    }
   },
   "outputs": [],
   "source": [
    "agent_executor.invoke({\"input\": \"what are my latest orders?\"})"
   ]
  },
  {
   "cell_type": "markdown",
   "metadata": {
    "application/vnd.databricks.v1+cell": {
     "cellMetadata": {
      "byteLimit": 2048000,
      "rowLimit": 10000
     },
     "inputWidgets": {},
     "nuid": "898b9e5a-953b-4918-806a-c27125e7527d",
     "showTitle": false,
     "tableResultSettingsMap": {},
     "title": ""
    }
   },
   "source": [
    "### Chaining multiple tools\n",
    "\n",
    "Let's see if the agent can properly chain the calls, using multiple tools and passing the values from one to another. We'll ask for an outfit for today, and the expectation is that the LLM will fetch the weather before."
   ]
  },
  {
   "cell_type": "code",
   "execution_count": 0,
   "metadata": {
    "application/vnd.databricks.v1+cell": {
     "cellMetadata": {
      "byteLimit": 2048000,
      "rowLimit": 10000
     },
     "inputWidgets": {},
     "nuid": "c2150414-9d60-40e7-9ff8-1ff6d06c13bc",
     "showTitle": false,
     "tableResultSettingsMap": {},
     "title": ""
    }
   },
   "outputs": [],
   "source": [
    "agent_executor = AgentExecutor(agent=agent, tools=tools, verbose=True)\n",
    "answer = agent_executor.invoke({\"input\": \"I need a dress for an interview I have today. What style would you recommend for today?\"})"
   ]
  },
  {
   "cell_type": "code",
   "execution_count": 0,
   "metadata": {
    "application/vnd.databricks.v1+cell": {
     "cellMetadata": {
      "byteLimit": 2048000,
      "rowLimit": 10000
     },
     "inputWidgets": {},
     "nuid": "22e69631-0cd5-4f23-bb78-950a90587ebb",
     "showTitle": false,
     "tableResultSettingsMap": {},
     "title": ""
    }
   },
   "outputs": [],
   "source": [
    "#Note: in a real app, we would include the preview discussion as history to keep the reference.\n",
    "answer = agent_executor.invoke({\"input\": \"Can you give me a list of red dresses I can buy?\"})"
   ]
  },
  {
   "cell_type": "code",
   "execution_count": 0,
   "metadata": {
    "application/vnd.databricks.v1+cell": {
     "cellMetadata": {
      "byteLimit": 2048000,
      "rowLimit": 10000
     },
     "inputWidgets": {},
     "nuid": "b3c029d3-39be-481a-9e25-8b4b42ff3be6",
     "showTitle": false,
     "tableResultSettingsMap": {},
     "title": ""
    }
   },
   "outputs": [],
   "source": [
    "displayHTML(answer['output'].replace('\\n', '<br>'))"
   ]
  },
  {
   "cell_type": "markdown",
   "metadata": {
    "application/vnd.databricks.v1+cell": {
     "cellMetadata": {
      "byteLimit": 2048000,
      "rowLimit": 10000
     },
     "inputWidgets": {},
     "nuid": "79dc1ba8-920b-473e-b10a-4c6fb23d2fae",
     "showTitle": false,
     "tableResultSettingsMap": {},
     "title": ""
    }
   },
   "source": [
    "## Extra: running more advanced functions using python:\n",
    "\n",
    "Let's see a few more advanced tools example"
   ]
  },
  {
   "cell_type": "markdown",
   "metadata": {
    "application/vnd.databricks.v1+cell": {
     "cellMetadata": {
      "byteLimit": 2048000,
      "rowLimit": 10000
     },
     "inputWidgets": {},
     "nuid": "625038af-652b-48c4-ace5-f2846ae8e53f",
     "showTitle": false,
     "tableResultSettingsMap": {},
     "title": ""
    }
   },
   "source": [
    "### Calculator tool: Supporting math operations \n",
    "Let's add a function to allow our LLM to execute any Math operation. \n",
    "\n",
    "Databricks runs the python in a safe container. However, we'll filter what the function can do to avoid any potential issues with prompt injection (so that the user cannot execute other python instructions)."
   ]
  },
  {
   "cell_type": "code",
   "execution_count": 0,
   "metadata": {
    "application/vnd.databricks.v1+cell": {
     "cellMetadata": {
      "byteLimit": 2048000,
      "implicitDf": true,
      "rowLimit": 10000
     },
     "inputWidgets": {},
     "nuid": "b981b7c3-ae79-4493-a16a-ac1e292c015a",
     "showTitle": false,
     "tableResultSettingsMap": {},
     "title": ""
    }
   },
   "outputs": [],
   "source": [
    "%sql\n",
    "CREATE OR REPLACE FUNCTION compute_math(expr STRING)\n",
    "RETURNS STRING\n",
    "LANGUAGE PYTHON\n",
    "COMMENT 'Run any mathematical function and returns the result as output. Supports python syntax like math.sqrt(13)'\n",
    "AS\n",
    "$$\n",
    "  import ast\n",
    "  import operator\n",
    "  import math\n",
    "  operators = {ast.Add: operator.add, ast.Sub: operator.sub, ast.Mult: operator.mul, ast.Div: operator.truediv, ast.Pow: operator.pow, ast.Mod: operator.mod, ast.FloorDiv: operator.floordiv, ast.UAdd: operator.pos, ast.USub: operator.neg}\n",
    "    \n",
    "  # Supported functions from the math module\n",
    "  functions = {name: getattr(math, name) for name in dir(math) if callable(getattr(math, name))}\n",
    "\n",
    "  def eval_node(node):\n",
    "    if isinstance(node, ast.Num):  # <number>\n",
    "      return node.n\n",
    "    elif isinstance(node, ast.BinOp):  # <left> <operator> <right>\n",
    "      return operators[type(node.op)](eval_node(node.left), eval_node(node.right))\n",
    "    elif isinstance(node, ast.UnaryOp):  # <operator> <operand> e.g., -1\n",
    "      return operators[type(node.op)](eval_node(node.operand))\n",
    "    elif isinstance(node, ast.Call):  # <func>(<args>)\n",
    "      func = node.func.id\n",
    "      if func in functions:\n",
    "        args = [eval_node(arg) for arg in node.args]\n",
    "        return functions[func](*args)\n",
    "      else:\n",
    "        raise TypeError(f\"Unsupported function: {func}\")\n",
    "    else:\n",
    "      raise TypeError(f\"Unsupported type: {type(node)}\")  \n",
    "  try:\n",
    "    if expr.startswith('```') and expr.endswith('```'):\n",
    "      expr = expr[3:-3].strip()      \n",
    "    node = ast.parse(expr, mode='eval').body\n",
    "    return eval_node(node)\n",
    "  except Exception as ex:\n",
    "    return str(ex)\n",
    "$$;\n",
    "-- let's test our function:\n",
    "SELECT compute_math(\"(2+2)/3\") as result;"
   ]
  },
  {
   "cell_type": "markdown",
   "metadata": {
    "application/vnd.databricks.v1+cell": {
     "cellMetadata": {
      "byteLimit": 2048000,
      "rowLimit": 10000
     },
     "inputWidgets": {},
     "nuid": "2a93f621-aafa-46d6-b54c-665a59fb2a74",
     "showTitle": false,
     "tableResultSettingsMap": {},
     "title": ""
    }
   },
   "source": [
    "### Run any python function\n",
    "\n",
    "If we are creating a coding assistant, it can be useful to allow our AI System to run python code to try them and output the results to the user. **Be careful doing that, as any code could be executed by the user.**\n",
    "\n",
    "Here is an example:"
   ]
  },
  {
   "cell_type": "code",
   "execution_count": 0,
   "metadata": {
    "application/vnd.databricks.v1+cell": {
     "cellMetadata": {
      "byteLimit": 2048000,
      "implicitDf": true,
      "rowLimit": 10000
     },
     "inputWidgets": {},
     "nuid": "0c69e514-5b7f-4bc8-9bf0-e763f499caa3",
     "showTitle": false,
     "tableResultSettingsMap": {},
     "title": ""
    }
   },
   "outputs": [],
   "source": [
    "%sql\n",
    "CREATE OR REPLACE FUNCTION execute_python_code(python_code STRING)\n",
    "RETURNS STRING\n",
    "LANGUAGE PYTHON\n",
    "COMMENT \"Run python code. The code should end with a return statement and this function will return it as a string. Only send valid python to this function. Here is an exampe of python code input: 'def square_function(number):\\\\n  return number*number\\\\n\\\\nreturn square_function(3)'\"\n",
    "AS\n",
    "$$\n",
    "    import traceback\n",
    "    try:\n",
    "        import re\n",
    "        # Remove code block markers (e.g., ```python) and strip whitespace```\n",
    "        python_code = re.sub(r\"^\\s*```(?:python)?|```\\s*$\", \"\", python_code).strip()\n",
    "        # Unescape any escaped newline characters\n",
    "        python_code = python_code.replace(\"\\\\n\", \"\\n\")\n",
    "        # Properly indent the code for wrapping\n",
    "        indented_code = \"\\n    \".join(python_code.split(\"\\n\"))\n",
    "        # Define a wrapper function to execute the code\n",
    "        exec_globals = {}\n",
    "        exec_locals = {}\n",
    "        wrapper_code = \"def _temp_function():\\n    \"+indented_code\n",
    "        exec(wrapper_code, exec_globals, exec_locals)\n",
    "        # Execute the wrapped function and return its output\n",
    "        result = exec_locals[\"_temp_function\"]()\n",
    "        return result\n",
    "    except Exception as ex:\n",
    "        return traceback.format_exc()\n",
    "$$;\n",
    "-- let's test our function:\n",
    "\n",
    "SELECT execute_python_code(\"return 'Hello World! '* 3\") as result;"
   ]
  },
  {
   "cell_type": "code",
   "execution_count": 0,
   "metadata": {
    "application/vnd.databricks.v1+cell": {
     "cellMetadata": {
      "byteLimit": 2048000,
      "rowLimit": 10000
     },
     "inputWidgets": {},
     "nuid": "4778cb52-7816-49e7-b7e1-d3e3e6735026",
     "showTitle": false,
     "tableResultSettingsMap": {},
     "title": ""
    }
   },
   "outputs": [],
   "source": [
    "from langchain.agents import AgentExecutor, create_tool_calling_agent\n",
    "prompt = get_prompt(prompt=\"You are an assistant for a python developer. Internally, you have a tool named execute_python_code that can generate and run python code to help answering what the customer is asking. input: valid python code as a string. output: the result of the return value from the code execution. Don't mention you have tools or the tools name. Make sure you send the full python code at once to the function and that the code has a return statement at the end to capture the result. Don't print anything in the code you write, return the result you need as final instruction. Make sure the python code is valid. Only send python. Here is an example: 'def square_function(number):\\\\n  return number*number\\\\n\\\\nreturn square_function(3)'\")\n",
    "tools = get_tools()\n",
    "agent = create_tool_calling_agent(llm, tools, prompt)\n",
    "agent_executor = AgentExecutor(agent=agent, tools=tools, verbose=True)\n",
    "\n",
    "#Let's print the answer! Note that the LLM often makes a few error, but then analyze it and self-correct.\n",
    "answer = agent_executor.invoke({\"input\": \"What's the result of the fibonacci suite? Display its result for 5.\"})\n",
    "displayHTML(answer['output'].replace('\\n', '<br>'))"
   ]
  },
  {
   "cell_type": "markdown",
   "metadata": {
    "application/vnd.databricks.v1+cell": {
     "cellMetadata": {
      "byteLimit": 2048000,
      "rowLimit": 10000
     },
     "inputWidgets": {},
     "nuid": "37164106-3d91-4bcd-b470-71164aee1baf",
     "showTitle": false,
     "tableResultSettingsMap": {},
     "title": ""
    }
   },
   "source": [
    "## Deploying our Agent Executor as Model Serving Endpoint\n",
    "\n",
    "We're now ready to package our chain within MLFLow, and deploy it as a Model Serving Endpoint, leveraging Databricks Agent Framework and its review application."
   ]
  },
  {
   "cell_type": "code",
   "execution_count": 0,
   "metadata": {
    "application/vnd.databricks.v1+cell": {
     "cellMetadata": {
      "byteLimit": 2048000,
      "rowLimit": 10000
     },
     "inputWidgets": {},
     "nuid": "56888c32-2af6-49a1-bc80-a50d4c3c64c4",
     "showTitle": true,
     "tableResultSettingsMap": {},
     "title": "Create the chain"
    }
   },
   "outputs": [],
   "source": [
    "from langchain.schema.runnable import RunnableLambda\n",
    "from langchain_core.output_parsers import StrOutputParser\n",
    "\n",
    "# Function to extract the user's query\n",
    "def extract_user_query_string(chat_messages_array):\n",
    "    return chat_messages_array[-1][\"content\"]\n",
    "\n",
    "# Wrapping the agent_executor invocation\n",
    "def agent_executor_wrapper(input_data):\n",
    "    result = agent_executor.invoke({\"input\": input_data})\n",
    "    return result[\"output\"]\n",
    "\n",
    "# Create the chain using the | operator with StrOutputParser\n",
    "chain = (\n",
    "    RunnableLambda(lambda data: extract_user_query_string(data[\"messages\"]))  # Extract the user query\n",
    "    | RunnableLambda(agent_executor_wrapper)  # Pass the query to the agent executor\n",
    "    | StrOutputParser()  # Optionally parse the output to ensure it's a clean string\n",
    ")"
   ]
  },
  {
   "cell_type": "code",
   "execution_count": 0,
   "metadata": {
    "application/vnd.databricks.v1+cell": {
     "cellMetadata": {
      "byteLimit": 2048000,
      "rowLimit": 10000
     },
     "inputWidgets": {},
     "nuid": "8981e75f-3105-4315-a70c-582ca5eac82b",
     "showTitle": true,
     "tableResultSettingsMap": {},
     "title": "Let's try our chain"
    }
   },
   "outputs": [],
   "source": [
    "# Example input data\n",
    "input_data = {\n",
    "    \"messages\": [\n",
    "        {\"content\": \"Write a function that computes the Fibonacci sequence in Python and displays its result for 5.\"}\n",
    "    ]\n",
    "}\n",
    "# Run the chain\n",
    "answer = chain.invoke(input_data)\n",
    "displayHTML(answer.replace('\\n', '<br>'))"
   ]
  },
  {
   "cell_type": "markdown",
   "metadata": {
    "application/vnd.databricks.v1+cell": {
     "cellMetadata": {
      "byteLimit": 2048000,
      "rowLimit": 10000
     },
     "inputWidgets": {},
     "nuid": "b4dedd30-6e6d-472c-9d21-43ec71f6eabe",
     "showTitle": false,
     "tableResultSettingsMap": {},
     "title": ""
    }
   },
   "source": [
    "## Deploying the agent as a model serving endpoint\n",
    "\n",
    "Databricks automatically generates all the required notebooks and setup for you to deploy these agents!\n",
    "\n",
    "To deploy them with the latest configuration, open [Databricks Playground ](/ml/playground), select the tools you want to use and click on the \"Export Notebook\" button on the top!\n",
    "\n",
    "This will generate notebooks pre-configured for you, including the review application to start testing and collecting your new model!"
   ]
  },
  {
   "cell_type": "markdown",
   "metadata": {
    "application/vnd.databricks.v1+cell": {
     "cellMetadata": {
      "byteLimit": 2048000,
      "rowLimit": 10000
     },
     "inputWidgets": {},
     "nuid": "afa3d1b6-7269-420a-8d93-f6f3594a2399",
     "showTitle": false,
     "tableResultSettingsMap": {},
     "title": ""
    }
   },
   "source": [
    "## Conclusion\n",
    "That's it, we saw how you can leverage Databricks Functions as tools within your AI system.\n",
    "\n",
    "This demo gave you a simple overview and some examples to get started. You can take it to the next level within your own AI Systems!\n",
    "\n",
    "Once your application is complete and your chain ready to be deployed, you can easily serve your model as a Model Serving Endpoint, acting as your Compound AI System!\n",
    "\n",
    "### Coming soon\n",
    "\n",
    "We'll soon update this demo to add more examples, including:\n",
    "- how to properly leverage secrets within AI functions to call external systems having Authentication\n",
    "- generating images and calling ML model endpoints\n",
    "- More to come!\n",
    "\n",
    "Stay tuned!"
   ]
  }
 ],
 "metadata": {
  "application/vnd.databricks.v1+notebook": {
   "computePreferences": null,
   "dashboards": [],
   "environmentMetadata": {
    "environment_version": "2"
   },
   "inputWidgetPreferences": null,
   "language": "python",
   "notebookMetadata": {
    "mostRecentlyExecutedCommandWithImplicitDF": {
     "commandId": 3675736245626743,
     "dataframes": [
      "_sqldf"
     ]
    },
    "pythonIndentUnit": 2
   },
   "notebookName": "00-stylist-AI-function-tools-introduction",
   "widgets": {}
  },
  "language_info": {
   "name": "python"
  }
 },
 "nbformat": 4,
 "nbformat_minor": 0
}
