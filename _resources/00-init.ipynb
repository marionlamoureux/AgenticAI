{
 "cells": [
  {
   "cell_type": "markdown",
   "metadata": {
    "application/vnd.databricks.v1+cell": {
     "cellMetadata": {},
     "inputWidgets": {},
     "nuid": "582f1aef-a692-45c0-b2bd-770913ea2e9e",
     "showTitle": false,
     "tableResultSettingsMap": {},
     "title": ""
    }
   },
   "source": [
    "# init notebook setting up the backend. \n",
    "\n",
    "Do not edit the notebook, it contains import and helpers for the demo\n",
    "\n",
    "<!-- Collect usage data (view). Remove it to disable collection or disable tracker during installation. View README for more details.  -->\n",
    "<img width=\"1px\" src=\"https://ppxrzfxige.execute-api.us-west-2.amazonaws.com/v1/analytics?category=data-science&org_id=984752964297111&notebook=%2F_resources%2F00-init&demo_name=llm-tools-functions&event=VIEW&path=%2F_dbdemos%2Fdata-science%2Fllm-tools-functions%2F_resources%2F00-init&version=1&user_hash=e61a20ecc22427b72adf9caf8d2fa6358cfdb6b25abd27b2e1fe8d13f9b4226c\">"
   ]
  },
  {
   "cell_type": "code",
   "execution_count": 0,
   "metadata": {
    "application/vnd.databricks.v1+cell": {
     "cellMetadata": {},
     "inputWidgets": {},
     "nuid": "aff88525-d7fe-4bea-aabc-98ab739db526",
     "showTitle": false,
     "tableResultSettingsMap": {},
     "title": ""
    },
    "jupyter": {
     "outputs_hidden": true
    }
   },
   "outputs": [],
   "source": [
    "%run ../config"
   ]
  },
  {
   "cell_type": "code",
   "execution_count": 0,
   "metadata": {
    "application/vnd.databricks.v1+cell": {
     "cellMetadata": {},
     "inputWidgets": {},
     "nuid": "5d159e36-cd1f-4c50-ad65-fcc2bcc31a7c",
     "showTitle": false,
     "tableResultSettingsMap": {},
     "title": ""
    },
    "jupyter": {
     "outputs_hidden": true
    }
   },
   "outputs": [],
   "source": [
    "%run ./00-global-setup-v2"
   ]
  },
  {
   "cell_type": "code",
   "execution_count": 0,
   "metadata": {
    "application/vnd.databricks.v1+cell": {
     "cellMetadata": {},
     "inputWidgets": {},
     "nuid": "d6d71367-0fcf-4ac8-b47f-a96ada94bb16",
     "showTitle": false,
     "tableResultSettingsMap": {},
     "title": ""
    }
   },
   "outputs": [],
   "source": [
    "dbutils.widgets.text(\"reset_all_data\", \"false\", \"Reset Data\")\n",
    "reset_all_data = dbutils.widgets.get(\"reset_all_data\") == \"true\"\n",
    "DBDemos.setup_schema(catalog, db, reset_all_data, volume_name)"
   ]
  },
  {
   "cell_type": "code",
   "execution_count": 0,
   "metadata": {
    "application/vnd.databricks.v1+cell": {
     "cellMetadata": {},
     "inputWidgets": {},
     "nuid": "1c0b4a31-9159-4b18-b953-8e74186d256e",
     "showTitle": false,
     "tableResultSettingsMap": {},
     "title": ""
    }
   },
   "outputs": [],
   "source": [
    "from databricks.sdk import WorkspaceClient\n",
    "\n",
    "def get_shared_warehouse(name=None):\n",
    "    w = WorkspaceClient()\n",
    "    warehouses = w.warehouses.list()\n",
    "\n",
    "    # Check for warehouse by exact name (if provided)\n",
    "    if name:\n",
    "        for wh in warehouses:\n",
    "            if wh.name == name:\n",
    "                return wh\n",
    "\n",
    "    # Define fallback priorities\n",
    "    fallback_priorities = [\n",
    "        lambda wh: wh.name.lower() == \"serverless starter warehouse\",\n",
    "        lambda wh: wh.name.lower() == \"shared endpoint\",\n",
    "        lambda wh: wh.name.lower() == \"dbdemos-shared-endpoint\",\n",
    "        lambda wh: \"shared\" in wh.name.lower(),\n",
    "        lambda wh: \"dbdemos\" in wh.name.lower(),\n",
    "        lambda wh: wh.num_clusters > 0,\n",
    "    ]\n",
    "\n",
    "    # Try each fallback condition in order\n",
    "    for condition in fallback_priorities:\n",
    "        for wh in warehouses:\n",
    "            if condition(wh):\n",
    "                return wh\n",
    "\n",
    "    # Raise an exception if no warehouse is found\n",
    "    raise Exception(\n",
    "        \"Couldn't find any Warehouse to use. Please create one first or pass \"\n",
    "        \"a specific name as a parameter to the get_shared_warehouse(name='xxx') function.\"\n",
    "    )\n",
    "\n",
    "\n",
    "def display_tools(tools):\n",
    "    display(pd.DataFrame([{k: str(v) for k, v in vars(tool).items()} for tool in tools]))"
   ]
  }
 ],
 "metadata": {
  "application/vnd.databricks.v1+notebook": {
   "computePreferences": null,
   "dashboards": [],
   "environmentMetadata": {
    "environment_version": "2"
   },
   "inputWidgetPreferences": null,
   "language": "python",
   "notebookMetadata": {
    "pythonIndentUnit": 4
   },
   "notebookName": "00-init",
   "widgets": {}
  },
  "language_info": {
   "name": "python"
  }
 },
 "nbformat": 4,
 "nbformat_minor": 0
}
